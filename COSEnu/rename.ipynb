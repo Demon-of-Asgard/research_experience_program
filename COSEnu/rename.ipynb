{
 "cells": [
  {
   "cell_type": "code",
   "execution_count": 6,
   "metadata": {},
   "outputs": [
    {
     "name": "stdout",
     "output_type": "stream",
     "text": [
      "fd_saj_vdp_yvymys_nnm_NN_A2_non_mu_100_Lmu_300_ar_0.7_the1_run1\n",
      "fd__wrn_vdp_yvymys_nnm_NN_A2_non_mu_100_Lmu_300_ar_0.7_the1_run1\n",
      "fd_saj_vip_yvymys_nnm_N1_A2_non_mu_100_Lmu_300_ar_0.7_run1\n",
      "fd__wrn_vip_yvymys_nnm_N1_A2_non_mu_100_Lmu_300_ar_0.7_run1\n",
      "fd_saj_vip_yvnmys_nnm_N1_Asll_non_mu_100_Lmu_300_ar_0.7_the1_run1\n",
      "fd__wrn_vip_yvnmys_nnm_N1_Asll_non_mu_100_Lmu_300_ar_0.7_the1_run1\n",
      "fd_saj_vip_yvymys_inm_NN_A2_non_mu_100_Lmu_300_ar_0.7_run1\n",
      "fd__wrn_vip_yvymys_inm_NN_A2_non_mu_100_Lmu_300_ar_0.7_run1\n",
      "fd_saj_vdp_yvnmys_inm_N1_Asll_non_mu_100_Lmu_300_ar_0.7_the1_run1\n",
      "fd__wrn_vdp_yvnmys_inm_N1_Asll_non_mu_100_Lmu_300_ar_0.7_the1_run1\n",
      "fd_saj_vip_yvymys_inm_N1_A2_non_mu_100_Lmu_300_ar_0.7_run1\n",
      "fd__wrn_vip_yvymys_inm_N1_A2_non_mu_100_Lmu_300_ar_0.7_run1\n",
      "fd_saj_vdp_yvymys_nnm_N1_A2_non_mu_100_Lmu_300_ar_0.7_run1\n",
      "fd__wrn_vdp_yvymys_nnm_N1_A2_non_mu_100_Lmu_300_ar_0.7_run1\n",
      "fd_saj_vdp_yvymys_nnm_NN_A2_non_mu_100_Lmu_300_ar_0.7_run1\n",
      "fd__wrn_vdp_yvymys_nnm_NN_A2_non_mu_100_Lmu_300_ar_0.7_run1\n",
      "fd_saj_vdp_yvymys_inm_NN_A2_non_mu_100_Lmu_300_ar_0.7_run1\n",
      "fd__wrn_vdp_yvymys_inm_NN_A2_non_mu_100_Lmu_300_ar_0.7_run1\n",
      "fd_saj_vip_yvymys_nnm_NN_A2_non_mu_100_Lmu_300_ar_0.7_the1_run1\n",
      "fd__wrn_vip_yvymys_nnm_NN_A2_non_mu_100_Lmu_300_ar_0.7_the1_run1\n",
      "fd_saj_vdp_yvnmys_nnm_N1_Asll_non_mu_100_Lmu_300_ar_0.7_the1_run1\n",
      "fd__wrn_vdp_yvnmys_nnm_N1_Asll_non_mu_100_Lmu_300_ar_0.7_the1_run1\n",
      "fd_saj_vip_yvnmys_inm_N1_Asll_non_mu_100_Lmu_300_ar_0.7_the1_run1\n",
      "fd__wrn_vip_yvnmys_inm_N1_Asll_non_mu_100_Lmu_300_ar_0.7_the1_run1\n",
      "fd_saj_vdp_yvymys_inm_N1_A2_non_mu_100_Lmu_300_ar_0.7_run1\n",
      "fd__wrn_vdp_yvymys_inm_N1_A2_non_mu_100_Lmu_300_ar_0.7_run1\n",
      "fd_saj_vdp_yvymys_inm_NN_A2_non_mu_100_Lmu_300_ar_0.7_the1_run1\n",
      "fd__wrn_vdp_yvymys_inm_NN_A2_non_mu_100_Lmu_300_ar_0.7_the1_run1\n",
      "fd_saj_vip_yvymys_inm_NN_A2_non_mu_100_Lmu_300_ar_0.7_the1_run1\n",
      "fd__wrn_vip_yvymys_inm_NN_A2_non_mu_100_Lmu_300_ar_0.7_the1_run1\n",
      "fd_saj_vip_yvymys_nnm_NN_A2_non_mu_100_Lmu_300_ar_0.7_run1\n",
      "fd__wrn_vip_yvymys_nnm_NN_A2_non_mu_100_Lmu_300_ar_0.7_run1\n"
     ]
    }
   ],
   "source": [
    "import os\n",
    "path = os.getcwd()\n",
    "for h in os.listdir(path):\n",
    "    if '_saj_' in h:\n",
    "        if 'fd' in h:\n",
    "            if 'plot'  not in h:\n",
    "                print(h)\n",
    "                print(h[:h.find('saj_')]+'_wrn_'+h[h.find('saj_')+4:])\n",
    "                # os.rename(h, h[:h.find('saj_')]+'_wrn_'+h[h.find('saj_')+4:])\n",
    "#os.rename('a.txt', 'b.kml')"
   ]
  },
  {
   "cell_type": "code",
   "execution_count": null,
   "metadata": {},
   "outputs": [],
   "source": []
  }
 ],
 "metadata": {
  "kernelspec": {
   "display_name": "base",
   "language": "python",
   "name": "python3"
  },
  "language_info": {
   "codemirror_mode": {
    "name": "ipython",
    "version": 3
   },
   "file_extension": ".py",
   "mimetype": "text/x-python",
   "name": "python",
   "nbconvert_exporter": "python",
   "pygments_lexer": "ipython3",
   "version": "3.8.5"
  }
 },
 "nbformat": 4,
 "nbformat_minor": 2
}
